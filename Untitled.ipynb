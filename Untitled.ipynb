{
 "cells": [
  {
   "cell_type": "markdown",
   "id": "7bf015dd-c993-4531-9047-795a2de633a8",
   "metadata": {},
   "source": [
    "# Book Babies\n",
    "## Exploratory Data Analysis\n",
    "EEK, 2024-10-20"
   ]
  },
  {
   "cell_type": "markdown",
   "id": "8f88c805-84aa-472e-8424-e4e30605fe5a",
   "metadata": {},
   "source": [
    "### Setup"
   ]
  },
  {
   "cell_type": "code",
   "execution_count": 3,
   "id": "f95aeacb-b4be-4f7e-8101-ca96b1843c19",
   "metadata": {},
   "outputs": [
    {
     "ename": "ModuleNotFoundError",
     "evalue": "No module named 'tensorflow_recommenders'",
     "output_type": "error",
     "traceback": [
      "\u001b[0;31m---------------------------------------------------------------------------\u001b[0m",
      "\u001b[0;31mModuleNotFoundError\u001b[0m                       Traceback (most recent call last)",
      "Cell \u001b[0;32mIn[3], line 5\u001b[0m\n\u001b[1;32m      3\u001b[0m \u001b[38;5;28;01mimport\u001b[39;00m \u001b[38;5;21;01mseaborn\u001b[39;00m \u001b[38;5;28;01mas\u001b[39;00m \u001b[38;5;21;01msns\u001b[39;00m \n\u001b[1;32m      4\u001b[0m \u001b[38;5;28;01mimport\u001b[39;00m \u001b[38;5;21;01mnumpy\u001b[39;00m \u001b[38;5;28;01mas\u001b[39;00m \u001b[38;5;21;01mnp\u001b[39;00m \n\u001b[0;32m----> 5\u001b[0m \u001b[38;5;28;01mimport\u001b[39;00m \u001b[38;5;21;01mtensorflow_recommenders\u001b[39;00m \u001b[38;5;28;01mas\u001b[39;00m \u001b[38;5;21;01mtfrs\u001b[39;00m\n\u001b[1;32m      6\u001b[0m \u001b[38;5;28;01mimport\u001b[39;00m \u001b[38;5;21;01mtensorflow\u001b[39;00m \u001b[38;5;28;01mas\u001b[39;00m \u001b[38;5;21;01mtf\u001b[39;00m\n\u001b[1;32m      8\u001b[0m \u001b[38;5;28;01mfrom\u001b[39;00m \u001b[38;5;21;01mtyping\u001b[39;00m \u001b[38;5;28;01mimport\u001b[39;00m Dict, Text\n",
      "\u001b[0;31mModuleNotFoundError\u001b[0m: No module named 'tensorflow_recommenders'"
     ]
    }
   ],
   "source": [
    "import matplotlib.pyplot as plt \n",
    "import pandas as pd \n",
    "import seaborn as sns \n",
    "import numpy as np \n",
    "import tensorflow_recommenders as tfrs\n",
    "import tensorflow as tf\n",
    "\n",
    "from typing import Dict, Text"
   ]
  },
  {
   "cell_type": "code",
   "execution_count": 5,
   "id": "e29516a6-956d-4b25-8cf9-f0278b55747b",
   "metadata": {},
   "outputs": [
    {
     "name": "stdout",
     "output_type": "stream",
     "text": [
      "\n",
      "\u001b[34mUpdating dependencies\u001b[39m\n",
      "\u001b[2K\u001b[34mResolving dependencies...\u001b[39m \u001b[39;2m(3.1s)\u001b[39;22m\n",
      "\n",
      "\u001b[39;1mPackage operations\u001b[39;22m: \u001b[34m2\u001b[39m installs, \u001b[34m1\u001b[39m update, \u001b[34m0\u001b[39m removals\n",
      "\n",
      "  \u001b[34;1m-\u001b[39;22m \u001b[39mDowngrading \u001b[39m\u001b[36mnumpy\u001b[39m\u001b[39m (\u001b[39m\u001b[39;1m2.1.2\u001b[39;22m\u001b[39m -> \u001b[39m\u001b[39;1m1.26.4\u001b[39;22m\u001b[39m)\u001b[39m: \u001b[34mPending...\u001b[39m\n",
      "\u001b[1A\u001b[0J  \u001b[34;1m-\u001b[39;22m \u001b[39mDowngrading \u001b[39m\u001b[36mnumpy\u001b[39m\u001b[39m (\u001b[39m\u001b[39;1m2.1.2\u001b[39;22m\u001b[39m -> \u001b[39m\u001b[39;1m1.26.4\u001b[39;22m\u001b[39m)\u001b[39m: \u001b[34mInstalling...\u001b[39m\n",
      "\u001b[1A\u001b[0J  \u001b[32;1m-\u001b[39;22m \u001b[39mDowngrading \u001b[39m\u001b[36mnumpy\u001b[39m\u001b[39m (\u001b[39m\u001b[39;1m2.1.2\u001b[39;22m\u001b[39m -> \u001b[39m\u001b[32m1.26.4\u001b[39m\u001b[39m)\u001b[39m\n",
      "  \u001b[34;1m-\u001b[39;22m \u001b[39mInstalling \u001b[39m\u001b[36mtensorflow\u001b[39m\u001b[39m (\u001b[39m\u001b[39;1m2.17.0\u001b[39;22m\u001b[39m)\u001b[39m: \u001b[34mPending...\u001b[39m\n",
      "\u001b[1A\u001b[0J  \u001b[31;1m-\u001b[39;22m \u001b[39mInstalling \u001b[39m\u001b[36mtensorflow\u001b[39m\u001b[39m (\u001b[39m\u001b[31;1m2.17.0\u001b[39;22m\u001b[39m)\u001b[39m: \u001b[31;1mFailed\u001b[39;22m\n",
      "\n",
      "  \u001b[31;1mRuntimeError\u001b[39;22m\n",
      "\n",
      "  \u001b[39;1mUnable to find installation candidates for tensorflow (2.17.0)\u001b[39;22m\n",
      "\n",
      "  at \u001b[32m/usr/local/Cellar/poetry/1.8.3_2/libexec/lib/python3.12/site-packages/poetry/installation/chooser.py\u001b[39m:\u001b[39;1m74\u001b[39;22m in \u001b[36mchoose_for\u001b[39m\n",
      "      \u001b[39;2m 70\u001b[39;22m\u001b[39;2m│\u001b[39;22m \n",
      "      \u001b[39;2m 71\u001b[39;22m\u001b[39;2m│\u001b[39;22m \u001b[39m            links\u001b[39m\u001b[39;2m.\u001b[39;22m\u001b[39mappend\u001b[39m\u001b[39;2m(\u001b[39;22m\u001b[39mlink\u001b[39m\u001b[39;2m)\u001b[39;22m\n",
      "      \u001b[39;2m 72\u001b[39;22m\u001b[39;2m│\u001b[39;22m \n",
      "      \u001b[39;2m 73\u001b[39;22m\u001b[39;2m│\u001b[39;22m \u001b[39m        \u001b[39m\u001b[35;1mif not \u001b[39;22m\u001b[39mlinks\u001b[39m\u001b[39;2m:\u001b[39;22m\n",
      "    \u001b[31;1m→\u001b[39;22m \u001b[39;1m 74\u001b[39;22m\u001b[39;2m│\u001b[39;22m \u001b[39m            \u001b[39m\u001b[35;1mraise \u001b[39;22m\u001b[39;1mRuntimeError\u001b[39;22m\u001b[39;2m(\u001b[39;22m\u001b[39mf\"Unable to find installation candidates for \u001b[39m\u001b[39;2m{\u001b[39;22m\u001b[39mpackage\u001b[39m\u001b[39;2m}\u001b[39;22m\u001b[39m\"\u001b[39m\u001b[39;2m)\u001b[39;22m\n",
      "      \u001b[39;2m 75\u001b[39;22m\u001b[39;2m│\u001b[39;22m \n",
      "      \u001b[39;2m 76\u001b[39;22m\u001b[39;2m│\u001b[39;22m \u001b[39m        \u001b[39m\u001b[39;2;3m# Get the best link\u001b[39;22;23m\n",
      "      \u001b[39;2m 77\u001b[39;22m\u001b[39;2m│\u001b[39;22m \u001b[39m        chosen \u001b[39m\u001b[39;2m= \u001b[39;22m\u001b[39;1mmax\u001b[39;22m\u001b[39;2m(\u001b[39;22m\u001b[39mlinks\u001b[39m\u001b[39;2m, \u001b[39;22m\u001b[39mkey\u001b[39m\u001b[39;2m=\u001b[39;22m\u001b[35;1mlambda \u001b[39;22m\u001b[39mlink\u001b[39m\u001b[39;2m: \u001b[39;22m\u001b[39;1mself\u001b[39;22m\u001b[39;2m.\u001b[39;22m\u001b[39m_sort_key\u001b[39m\u001b[39;2m(\u001b[39;22m\u001b[39mpackage\u001b[39m\u001b[39;2m, \u001b[39;22m\u001b[39mlink\u001b[39m\u001b[39;2m))\u001b[39;22m\n",
      "      \u001b[39;2m 78\u001b[39;22m\u001b[39;2m│\u001b[39;22m \n",
      "\n",
      "\u001b[31;1mCannot install tensorflow.\u001b[39;22m\n",
      "\n"
     ]
    }
   ],
   "source": [
    "! poetry add tensorflow_recommenders@0.7.2"
   ]
  },
  {
   "cell_type": "code",
   "execution_count": 6,
   "id": "c673f6fa-787e-4928-a8fe-44847d949c7b",
   "metadata": {},
   "outputs": [
    {
     "name": "stdout",
     "output_type": "stream",
     "text": [
      "\n",
      "\u001b[34mUpdating dependencies\u001b[39m\n",
      "\u001b[2K\u001b[34mResolving dependencies...\u001b[39m \u001b[39;2m(1.1s)\u001b[39;22m\n",
      "\n",
      "\u001b[39;1mPackage operations\u001b[39;22m: \u001b[34m1\u001b[39m install, \u001b[34m0\u001b[39m updates, \u001b[34m0\u001b[39m removals\n",
      "\n",
      "  \u001b[34;1m-\u001b[39;22m \u001b[39mInstalling \u001b[39m\u001b[36mtensorflow\u001b[39m\u001b[39m (\u001b[39m\u001b[39;1m2.17.0\u001b[39;22m\u001b[39m)\u001b[39m: \u001b[34mPending...\u001b[39m\n",
      "\u001b[1A\u001b[0J  \u001b[31;1m-\u001b[39;22m \u001b[39mInstalling \u001b[39m\u001b[36mtensorflow\u001b[39m\u001b[39m (\u001b[39m\u001b[31;1m2.17.0\u001b[39;22m\u001b[39m)\u001b[39m: \u001b[31;1mFailed\u001b[39;22m\n",
      "\n",
      "  \u001b[31;1mRuntimeError\u001b[39;22m\n",
      "\n",
      "  \u001b[39;1mUnable to find installation candidates for tensorflow (2.17.0)\u001b[39;22m\n",
      "\n",
      "  at \u001b[32m/usr/local/Cellar/poetry/1.8.3_2/libexec/lib/python3.12/site-packages/poetry/installation/chooser.py\u001b[39m:\u001b[39;1m74\u001b[39;22m in \u001b[36mchoose_for\u001b[39m\n",
      "      \u001b[39;2m 70\u001b[39;22m\u001b[39;2m│\u001b[39;22m \n",
      "      \u001b[39;2m 71\u001b[39;22m\u001b[39;2m│\u001b[39;22m \u001b[39m            links\u001b[39m\u001b[39;2m.\u001b[39;22m\u001b[39mappend\u001b[39m\u001b[39;2m(\u001b[39;22m\u001b[39mlink\u001b[39m\u001b[39;2m)\u001b[39;22m\n",
      "      \u001b[39;2m 72\u001b[39;22m\u001b[39;2m│\u001b[39;22m \n",
      "      \u001b[39;2m 73\u001b[39;22m\u001b[39;2m│\u001b[39;22m \u001b[39m        \u001b[39m\u001b[35;1mif not \u001b[39;22m\u001b[39mlinks\u001b[39m\u001b[39;2m:\u001b[39;22m\n",
      "    \u001b[31;1m→\u001b[39;22m \u001b[39;1m 74\u001b[39;22m\u001b[39;2m│\u001b[39;22m \u001b[39m            \u001b[39m\u001b[35;1mraise \u001b[39;22m\u001b[39;1mRuntimeError\u001b[39;22m\u001b[39;2m(\u001b[39;22m\u001b[39mf\"Unable to find installation candidates for \u001b[39m\u001b[39;2m{\u001b[39;22m\u001b[39mpackage\u001b[39m\u001b[39;2m}\u001b[39;22m\u001b[39m\"\u001b[39m\u001b[39;2m)\u001b[39;22m\n",
      "      \u001b[39;2m 75\u001b[39;22m\u001b[39;2m│\u001b[39;22m \n",
      "      \u001b[39;2m 76\u001b[39;22m\u001b[39;2m│\u001b[39;22m \u001b[39m        \u001b[39m\u001b[39;2;3m# Get the best link\u001b[39;22;23m\n",
      "      \u001b[39;2m 77\u001b[39;22m\u001b[39;2m│\u001b[39;22m \u001b[39m        chosen \u001b[39m\u001b[39;2m= \u001b[39;22m\u001b[39;1mmax\u001b[39;22m\u001b[39;2m(\u001b[39;22m\u001b[39mlinks\u001b[39m\u001b[39;2m, \u001b[39;22m\u001b[39mkey\u001b[39m\u001b[39;2m=\u001b[39;22m\u001b[35;1mlambda \u001b[39;22m\u001b[39mlink\u001b[39m\u001b[39;2m: \u001b[39;22m\u001b[39;1mself\u001b[39;22m\u001b[39;2m.\u001b[39;22m\u001b[39m_sort_key\u001b[39m\u001b[39;2m(\u001b[39;22m\u001b[39mpackage\u001b[39m\u001b[39;2m, \u001b[39;22m\u001b[39mlink\u001b[39m\u001b[39;2m))\u001b[39;22m\n",
      "      \u001b[39;2m 78\u001b[39;22m\u001b[39;2m│\u001b[39;22m \n",
      "\n",
      "\u001b[31;1mCannot install tensorflow.\u001b[39;22m\n",
      "\n"
     ]
    }
   ],
   "source": [
    "! poetry add tensorflow@2.17.0"
   ]
  },
  {
   "cell_type": "code",
   "execution_count": 9,
   "id": "0510111f-6227-4154-b6aa-07bee3b6d180",
   "metadata": {},
   "outputs": [
    {
     "name": "stdout",
     "output_type": "stream",
     "text": [
      "\u001b[34m==>\u001b[0m \u001b[1mDownloading https://formulae.brew.sh/api/formula.jws.json\u001b[0m\n",
      "\n",
      "\u001b[34m==>\u001b[0m \u001b[1mDownloading https://formulae.brew.sh/api/cask.jws.json\u001b[0m\n",
      "\n",
      "\u001b[33mWarning:\u001b[0m No available formula with the name \"tensorflow@2.17.0\".\n",
      "\u001b[34m==>\u001b[0m \u001b[1mSearching for similarly named formulae and casks...\u001b[0m\n",
      "\u001b[31mError:\u001b[0m No formulae or casks found for tensorflow@2.17.0.\n"
     ]
    }
   ],
   "source": [
    "! brew install tensorflow@2.17.0"
   ]
  },
  {
   "cell_type": "code",
   "execution_count": null,
   "id": "5365e7b1-47a5-4d69-8cfa-ff7bce3d76f0",
   "metadata": {},
   "outputs": [],
   "source": []
  }
 ],
 "metadata": {
  "kernelspec": {
   "display_name": "Python 3 (ipykernel)",
   "language": "python",
   "name": "python3"
  },
  "language_info": {
   "codemirror_mode": {
    "name": "ipython",
    "version": 3
   },
   "file_extension": ".py",
   "mimetype": "text/x-python",
   "name": "python",
   "nbconvert_exporter": "python",
   "pygments_lexer": "ipython3",
   "version": "3.12.6"
  }
 },
 "nbformat": 4,
 "nbformat_minor": 5
}
